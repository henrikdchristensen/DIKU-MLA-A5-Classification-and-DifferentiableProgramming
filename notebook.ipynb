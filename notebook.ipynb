{
 "cells": [
  {
   "cell_type": "markdown",
   "metadata": {},
   "source": [
    "# 1. Sleep well (35 points)"
   ]
  },
  {
   "cell_type": "code",
   "execution_count": 74,
   "metadata": {},
   "outputs": [],
   "source": [
    "import pandas as pd\n",
    "\n",
    "# Load the data\n",
    "X_train = pd.read_csv('data\\Sleep-EDF-15_U-Time/X_train.csv', header=None)\n",
    "y_train = pd.read_csv('data\\Sleep-EDF-15_U-Time/y_train.csv', header=None)\n",
    "X_test = pd.read_csv('data\\Sleep-EDF-15_U-Time/X_test.csv', header=None)\n",
    "y_test = pd.read_csv('data\\Sleep-EDF-15_U-Time/y_test.csv', header=None)"
   ]
  },
  {
   "cell_type": "markdown",
   "metadata": {},
   "source": [
    "## 1.1 Data understanding and preprocessing"
   ]
  },
  {
   "cell_type": "code",
   "execution_count": 75,
   "metadata": {},
   "outputs": [
    {
     "name": "stdout",
     "output_type": "stream",
     "text": [
      "Class frequencies for training data:\n",
      "Class (0.0,): 52.09%\n",
      "Class (2.0,): 25.27%\n",
      "Class (1.0,): 9.55%\n",
      "Class (4.0,): 8.39%\n",
      "Class (3.0,): 4.69%\n"
     ]
    }
   ],
   "source": [
    "# Calculate class frequencies for training dat, normalized to [0,1]\n",
    "class_frequencies = y_train.value_counts(normalize=True)\n",
    "\n",
    "# Print each class frequency for training data\n",
    "print(\"Class frequencies for training data:\")\n",
    "for label, freq in class_frequencies.items():\n",
    "    print(f\"Class {label}: {freq*100:.2f}%\")"
   ]
  },
  {
   "cell_type": "markdown",
   "metadata": {},
   "source": [
    "## 1.2 Classification"
   ]
  },
  {
   "cell_type": "code",
   "execution_count": 76,
   "metadata": {},
   "outputs": [],
   "source": [
    "from sklearn.metrics import confusion_matrix, zero_one_loss, accuracy_score, precision_score, recall_score, f1_score\n",
    "\n",
    "def evaluate_classifier(y_true_train, y_pred_train, y_true_test, y_pred_test, classifier_name):\n",
    "    print(f\"Evaluation Metrics for {classifier_name}:\")\n",
    "\n",
    "    # Confusion Matrix\n",
    "    print(f\"\\nConfusion Matrix:\")\n",
    "    print(f\"Training:\\n {confusion_matrix(y_true_train, y_pred_train)}\")\n",
    "    print(f\"Test:\\n {confusion_matrix(y_true_test, y_pred_test)}\")\n",
    "\n",
    "    # Zero-One Loss\n",
    "    print(f\"\\nZero-One Loss:\")\n",
    "    print(f\"Training: {zero_one_loss(y_true_train, y_pred_train):.3f}\")\n",
    "    print(f\"Test: {zero_one_loss(y_true_test, y_pred_test):.3f}\")\n",
    "\n",
    "    # Accuracy\n",
    "    print(f\"\\nAccuracy\")\n",
    "    print(f\"Training: {accuracy_score(y_true_train, y_pred_train):.3f}\")\n",
    "    print(f\"Test: {accuracy_score(y_true_test, y_pred_test):.3f}\")\n",
    "\n",
    "    # Precision\n",
    "    print(f\"\\nPrecision:\")\n",
    "    print(f\"Training: {precision_score(y_true_train, y_pred_train, average='macro'):.3f}\")\n",
    "    print(f\"Test: {precision_score(y_true_test, y_pred_test, average='macro'):.3f}\")\n",
    "\n",
    "    # Recall\n",
    "    print(f\"\\nRecall:\")\n",
    "    print(f\"Training: {recall_score(y_true_train, y_pred_train, average='macro'):.3f}\")\n",
    "    print(f\"Test: {recall_score(y_true_test, y_pred_test, average='macro'):.3f}\")\n",
    "\n",
    "    # F1 Score\n",
    "    print(f\"\\nF1 Score:\")\n",
    "    print(f\"Training: {f1_score(y_true_train, y_pred_train, average='macro'):.3f}\")\n",
    "    print(f\"Test: {f1_score(y_true_test, y_pred_test, average='macro'):.3f}\")"
   ]
  },
  {
   "cell_type": "markdown",
   "metadata": {},
   "source": [
    "### Multi-nominal Logistic Regression"
   ]
  },
  {
   "cell_type": "code",
   "execution_count": 77,
   "metadata": {},
   "outputs": [
    {
     "name": "stdout",
     "output_type": "stream",
     "text": [
      "Evaluation Metrics for Logistic Regression:\n",
      "\n",
      "Confusion Matrix:\n",
      "Training:\n",
      " [[16993   404    37    12   120]\n",
      " [  532  1322  1012     5   350]\n",
      " [   62   446  7226   314   475]\n",
      " [   10     7   662   896     8]\n",
      " [   64   180   342     0  2245]]\n",
      "Test:\n",
      " [[7437  124    9    3    6]\n",
      " [  78  412  182    1  102]\n",
      " [  15  188 3376   83  179]\n",
      " [   0    0  135  260    0]\n",
      " [  53  161   59    0 1038]]\n",
      "\n",
      "Zero-One Loss:\n",
      "Training: 0.150\n",
      "Test: 0.099\n",
      "\n",
      "Accuracy\n",
      "Training: 0.850\n",
      "Test: 0.901\n",
      "\n",
      "Precision:\n",
      "Training: 0.747\n",
      "Test: 0.775\n",
      "\n",
      "Recall:\n",
      "Training: 0.717\n",
      "Test: 0.768\n",
      "\n",
      "F1 Score:\n",
      "Training: 0.727\n",
      "Test: 0.771\n"
     ]
    }
   ],
   "source": [
    "from sklearn.linear_model import LogisticRegression\n",
    "\n",
    "# Build and train the model\n",
    "logistic_model = LogisticRegression(max_iter=10000)  # Default is L2 regularization\n",
    "logistic_model.fit(X_train, y_train.values.ravel())\n",
    "\n",
    "# Predict and evaluate\n",
    "train_pred = logistic_model.predict(X_train)\n",
    "test_pred = logistic_model.predict(X_test)\n",
    "\n",
    "evaluate_classifier(y_train, train_pred, y_test, test_pred, \"Logistic Regression\")"
   ]
  },
  {
   "cell_type": "markdown",
   "metadata": {},
   "source": [
    "### Random Forests"
   ]
  },
  {
   "cell_type": "code",
   "execution_count": 78,
   "metadata": {},
   "outputs": [
    {
     "name": "stdout",
     "output_type": "stream",
     "text": [
      "Evaluation Metrics for Random Forest (n_estimators=50):\n",
      "\n",
      "Confusion Matrix:\n",
      "Training:\n",
      " [[17566     0     0     0     0]\n",
      " [    2  3216     2     0     1]\n",
      " [    1     1  8521     0     0]\n",
      " [    0     0     2  1581     0]\n",
      " [    1     0     2     0  2828]]\n",
      "Test:\n",
      " [[7451  110   11    2    5]\n",
      " [ 114  395  169    0   97]\n",
      " [  22  252 3334   71  162]\n",
      " [   0    0  176  219    0]\n",
      " [ 114  153  105    0  939]]\n",
      "\n",
      "Zero-One Loss:\n",
      "Training: 0.000\n",
      "Test: 0.112\n",
      "\n",
      "Accuracy\n",
      "Training: 1.000\n",
      "Test: 0.888\n",
      "\n",
      "Precision:\n",
      "Training: 1.000\n",
      "Test: 0.762\n",
      "\n",
      "Recall:\n",
      "Training: 0.999\n",
      "Test: 0.726\n",
      "\n",
      "F1 Score:\n",
      "Training: 0.999\n",
      "Test: 0.740\n",
      "Evaluation Metrics for Random Forest (n_estimators=100):\n",
      "\n",
      "Confusion Matrix:\n",
      "Training:\n",
      " [[17566     0     0     0     0]\n",
      " [    0  3221     0     0     0]\n",
      " [    0     0  8523     0     0]\n",
      " [    0     0     0  1583     0]\n",
      " [    0     0     0     0  2831]]\n",
      "Test:\n",
      " [[7442  114   14    2    7]\n",
      " [ 108  391  177    1   98]\n",
      " [  18  220 3371   69  163]\n",
      " [   0    0  185  210    0]\n",
      " [ 125  157   91    0  938]]\n",
      "\n",
      "Zero-One Loss:\n",
      "Training: 0.000\n",
      "Test: 0.111\n",
      "\n",
      "Accuracy\n",
      "Training: 1.000\n",
      "Test: 0.889\n",
      "\n",
      "Precision:\n",
      "Training: 1.000\n",
      "Test: 0.762\n",
      "\n",
      "Recall:\n",
      "Training: 1.000\n",
      "Test: 0.722\n",
      "\n",
      "F1 Score:\n",
      "Training: 1.000\n",
      "Test: 0.738\n",
      "Evaluation Metrics for Random Forest (n_estimators=200):\n",
      "\n",
      "Confusion Matrix:\n",
      "Training:\n",
      " [[17566     0     0     0     0]\n",
      " [    0  3221     0     0     0]\n",
      " [    0     0  8523     0     0]\n",
      " [    0     0     0  1583     0]\n",
      " [    0     0     0     0  2831]]\n",
      "Test:\n",
      " [[7444  115   14    2    4]\n",
      " [ 107  402  172    0   94]\n",
      " [  25  243 3341   68  164]\n",
      " [   0    0  176  219    0]\n",
      " [ 122  156   93    0  940]]\n",
      "\n",
      "Zero-One Loss:\n",
      "Training: 0.000\n",
      "Test: 0.112\n",
      "\n",
      "Accuracy\n",
      "Training: 1.000\n",
      "Test: 0.888\n",
      "\n",
      "Precision:\n",
      "Training: 1.000\n",
      "Test: 0.765\n",
      "\n",
      "Recall:\n",
      "Training: 1.000\n",
      "Test: 0.728\n",
      "\n",
      "F1 Score:\n",
      "Training: 1.000\n",
      "Test: 0.743\n"
     ]
    }
   ],
   "source": [
    "from sklearn.ensemble import RandomForestClassifier\n",
    "\n",
    "for n_trees in [50, 100, 200]:\n",
    "    # Build and train the model\n",
    "    rf_model = RandomForestClassifier(n_estimators=n_trees)\n",
    "    rf_model.fit(X_train, y_train.values.ravel())\n",
    "    \n",
    "    # Predict and evaluate\n",
    "    train_pred = rf_model.predict(X_train)\n",
    "    test_pred = rf_model.predict(X_test)\n",
    "    \n",
    "    # Evaluate the model\n",
    "    evaluate_classifier(y_train, train_pred, y_test, test_pred, f\"Random Forest (n_estimators={n_trees})\")"
   ]
  },
  {
   "cell_type": "markdown",
   "metadata": {},
   "source": [
    "### k-Nearest-Neighbor Classification"
   ]
  },
  {
   "cell_type": "code",
   "execution_count": 79,
   "metadata": {},
   "outputs": [
    {
     "name": "stdout",
     "output_type": "stream",
     "text": [
      "Evaluation Metrics for K-Nearest Neighbors:\n",
      "\n",
      "Confusion Matrix:\n",
      "Training:\n",
      " [[17069   355    24    10   108]\n",
      " [  499  1488   880     7   347]\n",
      " [   68   486  7304   239   426]\n",
      " [    9    12   696   860     6]\n",
      " [   79   176   375     0  2201]]\n",
      "Test:\n",
      " [[7447  113   10    2    7]\n",
      " [  95  405  167    1  107]\n",
      " [  17  214 3374   69  167]\n",
      " [   0    0  162  233    0]\n",
      " [  66  147   64    0 1034]]\n",
      "\n",
      "Zero-One Loss:\n",
      "Training: 0.142\n",
      "Test: 0.101\n",
      "\n",
      "Accuracy\n",
      "Training: 0.858\n",
      "Test: 0.899\n",
      "\n",
      "Precision:\n",
      "Training: 0.765\n",
      "Test: 0.776\n",
      "\n",
      "Recall:\n",
      "Training: 0.722\n",
      "Test: 0.752\n",
      "\n",
      "F1 Score:\n",
      "Training: 0.738\n",
      "Test: 0.762\n"
     ]
    }
   ],
   "source": [
    "from sklearn.neighbors import KNeighborsClassifier\n",
    "from sklearn.model_selection import GridSearchCV\n",
    "\n",
    "# Define the parameter grid\n",
    "param_grid = {'n_neighbors': list(range(1, 31))}  # Considering 1 to 30 neighbors\n",
    "\n",
    "# Use GridSearchCV to find the best number of neighbors\n",
    "knn = KNeighborsClassifier()\n",
    "grid_search = GridSearchCV(knn, param_grid, cv=5)  # 5-fold cross-validation\n",
    "grid_search.fit(X_train, y_train.values.ravel())\n",
    "\n",
    "# Train the model with the best number of neighbors\n",
    "best_knn = grid_search.best_estimator_\n",
    "train_pred = best_knn.predict(X_train)\n",
    "test_pred = best_knn.predict(X_test)\n",
    "\n",
    "# Evaluate the model\n",
    "evaluate_classifier(y_train, train_pred, y_test, test_pred, \"K-Nearest Neighbors\")"
   ]
  },
  {
   "cell_type": "markdown",
   "metadata": {},
   "source": [
    "# 3. Differentiable programming (35 points)"
   ]
  },
  {
   "cell_type": "markdown",
   "metadata": {},
   "source": [
    "## 3.1 Steepest descent"
   ]
  },
  {
   "cell_type": "code",
   "execution_count": 80,
   "metadata": {},
   "outputs": [],
   "source": [
    "import torch\n",
    "import matplotlib.pyplot as plt"
   ]
  },
  {
   "cell_type": "markdown",
   "metadata": {},
   "source": [
    "### Step 1. Function to optimize"
   ]
  },
  {
   "cell_type": "code",
   "execution_count": 81,
   "metadata": {},
   "outputs": [],
   "source": [
    "def f(x, y):\n",
    "    return (1 - x)**2 + 100 * (y - x**2)**2"
   ]
  },
  {
   "cell_type": "markdown",
   "metadata": {},
   "source": [
    "### Step 2. Initialize the trainable parameters"
   ]
  },
  {
   "cell_type": "code",
   "execution_count": 82,
   "metadata": {},
   "outputs": [],
   "source": [
    "r = 2.5  # This seems to be a constant from the original notebook\n",
    "\n",
    "# Initialize x and y with requires_grad=True\n",
    "x = torch.ones(1, requires_grad=True)\n",
    "y = torch.ones(1, requires_grad=True)\n",
    "\n",
    "# Initialize the values without autograd tracking\n",
    "with torch.no_grad():\n",
    "    x *= 0.9 * r\n",
    "    y *= 0.8 * r"
   ]
  },
  {
   "cell_type": "markdown",
   "metadata": {},
   "source": [
    "### Step 3. Set up the optimizer for steepest descent"
   ]
  },
  {
   "cell_type": "code",
   "execution_count": 83,
   "metadata": {},
   "outputs": [],
   "source": [
    "eta = 0.001  # Learning rate (this value might need to be adjusted based on the original notebook)\n",
    "optimizer = torch.optim.SGD([x, y], lr=eta)"
   ]
  },
  {
   "cell_type": "markdown",
   "metadata": {},
   "source": [
    "### Step 4. Optimization loop"
   ]
  },
  {
   "cell_type": "code",
   "execution_count": 84,
   "metadata": {},
   "outputs": [],
   "source": [
    "# Lists to store x, y values for plotting\n",
    "x_vals, y_vals = [], []\n",
    "\n",
    "# Optimization loop\n",
    "for _ in range(10000):  # Number of iterations might need adjustment\n",
    "    optimizer.zero_grad()  # Reset the gradients\n",
    "    loss = f(x, y)  # Compute the function value\n",
    "    loss.backward()  # Compute the gradients\n",
    "    optimizer.step()  # Update x and y using the gradients\n",
    "    \n",
    "    # Store x, y values for plotting\n",
    "    x_vals.append(x.item())\n",
    "    y_vals.append(y.item())"
   ]
  },
  {
   "cell_type": "markdown",
   "metadata": {},
   "source": [
    "### Step 5. Plotting the optimization steps"
   ]
  },
  {
   "cell_type": "code",
   "execution_count": 85,
   "metadata": {},
   "outputs": [
    {
     "data": {
      "image/png": "[encoded data removed]",
      "text/plain": [
       "<Figure size 1000x800 with 1 Axes>"
      ]
     },
     "metadata": {},
     "output_type": "display_data"
    }
   ],
   "source": [
    "plt.figure(figsize=(10, 8))\n",
    "plt.plot(x_vals, y_vals, '-o', color='red')\n",
    "plt.title(\"Steepest Descent Optimization\")\n",
    "plt.xlabel(\"x\")\n",
    "plt.ylabel(\"y\")\n",
    "plt.grid(True)\n",
    "plt.show()"
   ]
  },
  {
   "cell_type": "markdown",
   "metadata": {},
   "source": [
    "## 3.2 Adam [optional]"
   ]
  },
  {
   "cell_type": "markdown",
   "metadata": {},
   "source": [
    "### Step 1: Set up the Adam optimizer"
   ]
  },
  {
   "cell_type": "code",
   "execution_count": 86,
   "metadata": {},
   "outputs": [],
   "source": [
    "eta = 0.5  # Learning rate for Adam\n",
    "optimizer = torch.optim.Adam([x, y], lr=eta)"
   ]
  },
  {
   "cell_type": "markdown",
   "metadata": {},
   "source": [
    "### Step 2: Optimization loop\n",
    "The optimization loop remains largely the same. We'll compute the function value, gradients, and update `x` and `y` using the Adam optimizer."
   ]
  },
  {
   "cell_type": "code",
   "execution_count": 87,
   "metadata": {},
   "outputs": [],
   "source": [
    "# Lists to store x, y values for plotting\n",
    "x_vals, y_vals = [], []\n",
    "\n",
    "# Optimization loop\n",
    "for _ in range(10000):  # Number of iterations might need adjustment\n",
    "    optimizer.zero_grad()  # Reset the gradients\n",
    "    loss = f(x, y)  # Compute the function value\n",
    "    loss.backward()  # Compute the gradients\n",
    "    optimizer.step()  # Update x and y using Adam\n",
    "    \n",
    "    # Store x, y values for plotting\n",
    "    x_vals.append(x.item())\n",
    "    y_vals.append(y.item())"
   ]
  },
  {
   "cell_type": "markdown",
   "metadata": {},
   "source": [
    "### Step 3: Plotting the optimization steps"
   ]
  },
  {
   "cell_type": "code",
   "execution_count": 88,
   "metadata": {},
   "outputs": [
    {
     "data": {
      "image/png": "[encoded data removed]",
      "text/plain": [
       "<Figure size 1000x800 with 1 Axes>"
      ]
     },
     "metadata": {},
     "output_type": "display_data"
    }
   ],
   "source": [
    "plt.figure(figsize=(10, 8))\n",
    "plt.plot(x_vals, y_vals, '-o', color='blue')\n",
    "plt.title(\"Adam Optimization\")\n",
    "plt.xlabel(\"x\")\n",
    "plt.ylabel(\"y\")\n",
    "plt.grid(True)\n",
    "plt.show()"
   ]
  },
  {
   "cell_type": "markdown",
   "metadata": {},
   "source": [
    "### Why does the fourth step go in the “wrong” direction?\n",
    "Adam is an adaptive learning rate optimization algorithm that combines the advantages of two other extensions of stochastic gradient descent: AdaGrad and RMSProp. One of the key features of Adam is that it uses moving averages of the parameters (momentum) which can sometimes lead to overshooting the optimal point, especially in the early stages of optimization when the moving averages are being established.\n",
    "\n",
    "In the early iterations, the momentum term can dominate the optimization, causing the update to move in the direction of the momentum rather than the direction of the gradient. This can lead to the optimizer taking steps that appear to be in the \"wrong\" direction with respect to the gradient. However, as more iterations are performed, the moving averages stabilize, and the optimizer becomes more responsive to the gradient, leading to more consistent convergence towards the minimum.\n",
    "\n",
    "In summary, the \"wrong\" direction in the fourth step (or any early step) can be attributed to the momentum term in the Adam optimizer, which can initially dominate the gradient-based updates."
   ]
  }
 ],
 "metadata": {
  "kernelspec": {
   "display_name": "mypy",
   "language": "python",
   "name": "python3"
  },
  "language_info": {
   "codemirror_mode": {
    "name": "ipython",
    "version": 3
   },
   "file_extension": ".py",
   "mimetype": "text/x-python",
   "name": "python",
   "nbconvert_exporter": "python",
   "pygments_lexer": "ipython3",
   "version": "3.11.2"
  },
  "orig_nbformat": 4
 },
 "nbformat": 4,
 "nbformat_minor": 2
}
